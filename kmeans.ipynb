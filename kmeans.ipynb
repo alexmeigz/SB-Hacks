{
 "cells": [
  {
   "cell_type": "code",
   "execution_count": 1,
   "metadata": {},
   "outputs": [],
   "source": [
    "import matplotlib.pyplot as plt\n",
    "import pandas as pd\n",
    "%matplotlib inline\n",
    "from sklearn.cluster import KMeans"
   ]
  },
  {
   "cell_type": "code",
   "execution_count": 2,
   "metadata": {},
   "outputs": [],
   "source": [
    "kmeans = KMeans(n_clusters=6)\n",
    "df = pd.read_csv(\"training.csv\", index_col=0)\n",
    "kmeans.fit(df[['Red','Green','Blue']])\n",
    "df[\"Fitted\"] = kmeans.labels_\n",
    "colors = ['RED', 'ORANGE', 'YELLOW', 'GREEN', 'BLUE', 'WHITE']\n",
    "d = {}\n",
    "for color in colors:\n",
    "    d[df[df['Actual'] == color][\"Fitted\"].mode()[0]] = color"
   ]
  },
  {
   "cell_type": "code",
   "execution_count": 5,
   "metadata": {},
   "outputs": [],
   "source": [
    "def predictColors(filename):\n",
    "    df2 = pd.read_csv(filename, index_col=0)\n",
    "    df2[\"Predicted\"] = kmeans.predict(df2[['Red', 'Green', 'Blue']])\n",
    "    df2[\"Predicted\"] = df2[\"Predicted\"].apply(lambda x: d.get(x))\n",
    "    df2.to_csv('colors.csv', index=True, header=True)"
   ]
  },
  {
   "cell_type": "code",
   "execution_count": 162,
   "metadata": {},
   "outputs": [],
   "source": [
    "#df2[df2[\"Predicted\"] != df2[\"Actual\"]]"
   ]
  },
  {
   "cell_type": "code",
   "execution_count": 6,
   "metadata": {},
   "outputs": [],
   "source": [
    "predictColors(\"dataframe.csv\")"
   ]
  }
 ],
 "metadata": {
  "kernelspec": {
   "display_name": "Python 3",
   "language": "python",
   "name": "python3"
  },
  "language_info": {
   "codemirror_mode": {
    "name": "ipython",
    "version": 3
   },
   "file_extension": ".py",
   "mimetype": "text/x-python",
   "name": "python",
   "nbconvert_exporter": "python",
   "pygments_lexer": "ipython3",
   "version": "3.7.4"
  }
 },
 "nbformat": 4,
 "nbformat_minor": 2
}
